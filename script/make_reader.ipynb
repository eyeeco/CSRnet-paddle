{
 "cells": [
  {
   "cell_type": "code",
   "execution_count": 3,
   "metadata": {},
   "outputs": [],
   "source": [
    "import numpy as np\n",
    "import argparse\n",
    "import json\n",
    "import cv2\n",
    "import time\n",
    "\n",
    "import random\n",
    "import os\n",
    "from PIL import Image,ImageFilter,ImageDraw\n",
    "import numpy as np\n",
    "import h5py\n",
    "from PIL import ImageStat"
   ]
  },
  {
   "cell_type": "code",
   "execution_count": 6,
   "metadata": {},
   "outputs": [
    {
     "name": "stdout",
     "output_type": "stream",
     "text": [
      "(1920, 1080)\n",
      "((960, 540, 3), (120, 68))\n",
      "(928, 576)\n",
      "((960, 540, 3), (120, 68))\n",
      "(1024, 768)\n",
      "((960, 540, 3), (120, 68))\n",
      "(1920, 1080)\n",
      "((960, 540, 3), (120, 68))\n",
      "(640, 480)\n",
      "((960, 540, 3), (120, 68))\n",
      "(1920, 1080)\n",
      "((960, 540, 3), (120, 68))\n",
      "(1920, 1080)\n",
      "((960, 540, 3), (120, 68))\n",
      "(928, 576)\n",
      "((960, 540, 3), (120, 68))\n",
      "(1920, 1080)\n",
      "((960, 540, 3), (120, 68))\n",
      "(1024, 768)\n",
      "((960, 540, 3), (120, 68))\n",
      "(1024, 768)\n",
      "((960, 540, 3), (120, 68))\n",
      "(1920, 1080)\n",
      "((960, 540, 3), (120, 68))\n",
      "(928, 576)\n",
      "((960, 540, 3), (120, 68))\n",
      "(1920, 1080)\n",
      "((960, 540, 3), (120, 68))\n",
      "(1920, 1080)\n",
      "((960, 540, 3), (120, 68))\n",
      "(928, 576)\n",
      "((960, 540, 3), (120, 68))\n",
      "(1920, 1080)\n",
      "((960, 540, 3), (120, 68))\n",
      "(1920, 1080)\n",
      "((960, 540, 3), (120, 68))\n",
      "(928, 576)\n",
      "((960, 540, 3), (120, 68))\n",
      "(1024, 768)\n",
      "((960, 540, 3), (120, 68))\n",
      "(1920, 1080)\n",
      "((960, 540, 3), (120, 68))\n"
     ]
    },
    {
     "ename": "KeyboardInterrupt",
     "evalue": "",
     "output_type": "error",
     "traceback": [
      "\u001b[0;31m---------------------------------------------------------------------------\u001b[0m",
      "\u001b[0;31mKeyboardInterrupt\u001b[0m                         Traceback (most recent call last)",
      "\u001b[0;32m<ipython-input-6-b89b74c289d7>\u001b[0m in \u001b[0;36m<module>\u001b[0;34m()\u001b[0m\n\u001b[1;32m     29\u001b[0m                 \u001b[0;32myield\u001b[0m \u001b[0mimg\u001b[0m\u001b[0;34m,\u001b[0m\u001b[0mtarget\u001b[0m\u001b[0;34m\u001b[0m\u001b[0m\n\u001b[1;32m     30\u001b[0m     \u001b[0;32mreturn\u001b[0m \u001b[0mreader\u001b[0m\u001b[0;34m\u001b[0m\u001b[0m\n\u001b[0;32m---> 31\u001b[0;31m \u001b[0;32mfor\u001b[0m \u001b[0mitem\u001b[0m \u001b[0;32min\u001b[0m \u001b[0mdata_reader\u001b[0m\u001b[0;34m(\u001b[0m\u001b[0mtrain_json\u001b[0m\u001b[0;34m)\u001b[0m\u001b[0;34m(\u001b[0m\u001b[0;34m)\u001b[0m\u001b[0;34m:\u001b[0m\u001b[0;34m\u001b[0m\u001b[0m\n\u001b[0m\u001b[1;32m     32\u001b[0m     \u001b[0;32mprint\u001b[0m\u001b[0;34m(\u001b[0m\u001b[0mitem\u001b[0m\u001b[0;34m[\u001b[0m\u001b[0;36m0\u001b[0m\u001b[0;34m]\u001b[0m\u001b[0;34m.\u001b[0m\u001b[0mshape\u001b[0m\u001b[0;34m,\u001b[0m\u001b[0mitem\u001b[0m\u001b[0;34m[\u001b[0m\u001b[0;36m1\u001b[0m\u001b[0;34m]\u001b[0m\u001b[0;34m.\u001b[0m\u001b[0mshape\u001b[0m\u001b[0;34m)\u001b[0m\u001b[0;34m\u001b[0m\u001b[0m\n",
      "\u001b[0;32m<ipython-input-6-b89b74c289d7>\u001b[0m in \u001b[0;36mreader\u001b[0;34m()\u001b[0m\n\u001b[1;32m      7\u001b[0m                 \u001b[0mimg_path\u001b[0m \u001b[0;34m=\u001b[0m \u001b[0mitem\u001b[0m\u001b[0;34m\u001b[0m\u001b[0m\n\u001b[1;32m      8\u001b[0m                 \u001b[0mgt_path\u001b[0m \u001b[0;34m=\u001b[0m \u001b[0mimg_path\u001b[0m\u001b[0;34m.\u001b[0m\u001b[0mreplace\u001b[0m\u001b[0;34m(\u001b[0m\u001b[0;34m'.png'\u001b[0m\u001b[0;34m,\u001b[0m\u001b[0;34m'.h5'\u001b[0m\u001b[0;34m)\u001b[0m\u001b[0;34m.\u001b[0m\u001b[0mreplace\u001b[0m\u001b[0;34m(\u001b[0m\u001b[0;34m'.jpg'\u001b[0m\u001b[0;34m,\u001b[0m\u001b[0;34m'.h5'\u001b[0m\u001b[0;34m)\u001b[0m\u001b[0;34m.\u001b[0m\u001b[0mreplace\u001b[0m\u001b[0;34m(\u001b[0m\u001b[0;34m'train'\u001b[0m\u001b[0;34m,\u001b[0m\u001b[0;34m'truth'\u001b[0m\u001b[0;34m)\u001b[0m\u001b[0;34m\u001b[0m\u001b[0m\n\u001b[0;32m----> 9\u001b[0;31m                 \u001b[0mimg\u001b[0m \u001b[0;34m=\u001b[0m \u001b[0mImage\u001b[0m\u001b[0;34m.\u001b[0m\u001b[0mopen\u001b[0m\u001b[0;34m(\u001b[0m\u001b[0mimg_path\u001b[0m\u001b[0;34m)\u001b[0m\u001b[0;34m.\u001b[0m\u001b[0mconvert\u001b[0m\u001b[0;34m(\u001b[0m\u001b[0;34m'RGB'\u001b[0m\u001b[0;34m)\u001b[0m\u001b[0;34m\u001b[0m\u001b[0m\n\u001b[0m\u001b[1;32m     10\u001b[0m                 \u001b[0mgt_file\u001b[0m \u001b[0;34m=\u001b[0m \u001b[0mh5py\u001b[0m\u001b[0;34m.\u001b[0m\u001b[0mFile\u001b[0m\u001b[0;34m(\u001b[0m\u001b[0mgt_path\u001b[0m\u001b[0;34m)\u001b[0m\u001b[0;34m\u001b[0m\u001b[0m\n\u001b[1;32m     11\u001b[0m                 \u001b[0mtarget\u001b[0m \u001b[0;34m=\u001b[0m \u001b[0mnp\u001b[0m\u001b[0;34m.\u001b[0m\u001b[0masarray\u001b[0m\u001b[0;34m(\u001b[0m\u001b[0mgt_file\u001b[0m\u001b[0;34m[\u001b[0m\u001b[0;34m'density'\u001b[0m\u001b[0;34m]\u001b[0m\u001b[0;34m)\u001b[0m\u001b[0;34m\u001b[0m\u001b[0m\n",
      "\u001b[0;32m/usr/lib/python2.7/dist-packages/PIL/Image.pyc\u001b[0m in \u001b[0;36mopen\u001b[0;34m(fp, mode)\u001b[0m\n\u001b[1;32m   2263\u001b[0m         \u001b[0mfp\u001b[0m \u001b[0;34m=\u001b[0m \u001b[0mio\u001b[0m\u001b[0;34m.\u001b[0m\u001b[0mBytesIO\u001b[0m\u001b[0;34m(\u001b[0m\u001b[0mfp\u001b[0m\u001b[0;34m.\u001b[0m\u001b[0mread\u001b[0m\u001b[0;34m(\u001b[0m\u001b[0;34m)\u001b[0m\u001b[0;34m)\u001b[0m\u001b[0;34m\u001b[0m\u001b[0m\n\u001b[1;32m   2264\u001b[0m \u001b[0;34m\u001b[0m\u001b[0m\n\u001b[0;32m-> 2265\u001b[0;31m     \u001b[0mprefix\u001b[0m \u001b[0;34m=\u001b[0m \u001b[0mfp\u001b[0m\u001b[0;34m.\u001b[0m\u001b[0mread\u001b[0m\u001b[0;34m(\u001b[0m\u001b[0;36m16\u001b[0m\u001b[0;34m)\u001b[0m\u001b[0;34m\u001b[0m\u001b[0m\n\u001b[0m\u001b[1;32m   2266\u001b[0m \u001b[0;34m\u001b[0m\u001b[0m\n\u001b[1;32m   2267\u001b[0m     \u001b[0mpreinit\u001b[0m\u001b[0;34m(\u001b[0m\u001b[0;34m)\u001b[0m\u001b[0;34m\u001b[0m\u001b[0m\n",
      "\u001b[0;31mKeyboardInterrupt\u001b[0m: "
     ]
    }
   ],
   "source": [
    "train_json='/home/jiangdong/workspace/csr/CSRNet-paddle/baidu_train.json'\n",
    "def data_reader(json_path):\n",
    "    def reader():\n",
    "        with open(json_path, 'r') as outfile:        \n",
    "            train_list = json.load(outfile)\n",
    "            for item in train_list:\n",
    "                img_path = item\n",
    "                gt_path = img_path.replace('.png','.h5').replace('.jpg','.h5').replace('train','truth')\n",
    "                img = Image.open(img_path).convert('RGB')\n",
    "                gt_file = h5py.File(gt_path)\n",
    "                target = np.asarray(gt_file['density'])\n",
    "                if False:\n",
    "                    crop_size = (img.size[0]/2,img.size[1]/2)\n",
    "                    if random.randint(0,9)<= -1:\n",
    "                        dx = int(random.randint(0,1)*img.size[0]*1./2)\n",
    "                        dy = int(random.randint(0,1)*img.size[1]*1./2)\n",
    "                    else:\n",
    "                        dx = int(random.random()*img.size[0]*1./2)\n",
    "                        dy = int(random.random()*img.size[1]*1./2)\n",
    "                    img = img.crop((dx,dy,crop_size[0]+dx,crop_size[1]+dy))\n",
    "                    target = target[dy:crop_size[1]+dy,dx:crop_size[0]+dx]\n",
    "                    if random.random()>0.8:\n",
    "                        target = np.fliplr(target)\n",
    "                        img = img.transpose(Image.FLIP_LEFT_RIGHT)\n",
    "                target = cv2.resize(target,(68,120),interpolation = cv2.INTER_CUBIC)*64\n",
    "                print(img.size)\n",
    "                img = np.asarray(img)\n",
    "                img = cv2.resize(img,(540,960),interpolation = cv2.INTER_CUBIC)\n",
    "                yield img,target\n",
    "    return reader\n",
    "for item in data_reader(train_json)():\n",
    "    print(item[0].shape,item[1].shape)"
   ]
  },
  {
   "cell_type": "code",
   "execution_count": 5,
   "metadata": {},
   "outputs": [],
   "source": []
  }
 ],
 "metadata": {
  "kernelspec": {
   "display_name": "Python2.7",
   "language": "python",
   "name": "python2"
  },
  "language_info": {
   "codemirror_mode": {
    "name": "ipython",
    "version": 2
   },
   "file_extension": ".py",
   "mimetype": "text/x-python",
   "name": "python",
   "nbconvert_exporter": "python",
   "pygments_lexer": "ipython2",
   "version": "2.7.11+"
  }
 },
 "nbformat": 4,
 "nbformat_minor": 2
}
